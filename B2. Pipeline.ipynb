{
 "cells": [
  {
   "cell_type": "markdown",
   "id": "721ecbce-4477-4f15-887a-f6881c7fafd1",
   "metadata": {},
   "source": [
    "#### Diego Obregon\n",
    "#### 11006956\n",
    "# Proyecto Final fase 1 - Pipeline\n"
   ]
  },
  {
   "cell_type": "code",
   "execution_count": 26,
   "id": "15097efc-e498-47c0-91c5-5ba4e9ca1845",
   "metadata": {},
   "outputs": [],
   "source": [
    "import pandas as pd\n",
    "import matplotlib.pyplot as plt\n",
    "import seaborn as sns\n",
    "import numpy as np\n",
    "from scipy import stats\n",
    "from sklearn.preprocessing import StandardScaler"
   ]
  },
  {
   "cell_type": "markdown",
   "id": "dd7b16da-987f-43f7-96d6-245355069ff6",
   "metadata": {},
   "source": [
    "##### Exploracion de datos"
   ]
  },
  {
   "cell_type": "code",
   "execution_count": 4,
   "id": "3ee92b7e-5620-4beb-894c-297a655f81d1",
   "metadata": {
    "tags": []
   },
   "outputs": [
    {
     "name": "stdout",
     "output_type": "stream",
     "text": [
      "  GENDER  AGE  SMOKING  YELLOW_FINGERS  ANXIETY  PEER_PRESSURE  \\\n",
      "0      F   58        1               1        1              2   \n",
      "1      M   77        1               2        1              2   \n",
      "2      M   79        1               1        1              2   \n",
      "3      F   67        2               2        1              1   \n",
      "4      F   39        2               2        1              1   \n",
      "\n",
      "   CHRONIC_DISEASE  FATIGUE  ALLERGY  WHEEZING  ALCOHOL_CONSUMING  COUGHING  \\\n",
      "0                2        2        2         1                  2         2   \n",
      "1                1        1        1         1                  2         1   \n",
      "2                1        2        1         1                  2         2   \n",
      "3                2        2        1         2                  2         2   \n",
      "4                1        2        2         2                  1         2   \n",
      "\n",
      "   SHORTNESS_OF_BREATH  SWALLOWING_DIFFICULTY  CHEST_PAIN LUNG_CANCER  \n",
      "0                    1                      1           2         YES  \n",
      "1                    1                      1           2         YES  \n",
      "2                    1                      2           2         YES  \n",
      "3                    1                      1           1         YES  \n",
      "4                    2                      2           1         YES  \n",
      "<class 'pandas.core.frame.DataFrame'>\n",
      "RangeIndex: 3000 entries, 0 to 2999\n",
      "Data columns (total 16 columns):\n",
      " #   Column                 Non-Null Count  Dtype \n",
      "---  ------                 --------------  ----- \n",
      " 0   GENDER                 3000 non-null   object\n",
      " 1   AGE                    3000 non-null   int64 \n",
      " 2   SMOKING                3000 non-null   int64 \n",
      " 3   YELLOW_FINGERS         3000 non-null   int64 \n",
      " 4   ANXIETY                3000 non-null   int64 \n",
      " 5   PEER_PRESSURE          3000 non-null   int64 \n",
      " 6   CHRONIC_DISEASE        3000 non-null   int64 \n",
      " 7   FATIGUE                3000 non-null   int64 \n",
      " 8   ALLERGY                3000 non-null   int64 \n",
      " 9   WHEEZING               3000 non-null   int64 \n",
      " 10  ALCOHOL_CONSUMING      3000 non-null   int64 \n",
      " 11  COUGHING               3000 non-null   int64 \n",
      " 12  SHORTNESS_OF_BREATH    3000 non-null   int64 \n",
      " 13  SWALLOWING_DIFFICULTY  3000 non-null   int64 \n",
      " 14  CHEST_PAIN             3000 non-null   int64 \n",
      " 15  LUNG_CANCER            3000 non-null   object\n",
      "dtypes: int64(14), object(2)\n",
      "memory usage: 375.1+ KB\n",
      "None\n"
     ]
    }
   ],
   "source": [
    "data = pd.read_csv('Cancer_de_pulmones.csv')\n",
    "print(data.head())\n",
    "print(data.info())"
   ]
  },
  {
   "cell_type": "markdown",
   "id": "87d2ae82-eaf1-4685-8808-4b648bb0e312",
   "metadata": {},
   "source": [
    "### Imputación de variables con data faltante"
   ]
  },
  {
   "cell_type": "code",
   "execution_count": 6,
   "id": "903a481e-6ba8-4391-aa9f-a7bac9f294f0",
   "metadata": {},
   "outputs": [],
   "source": [
    "# Variables Numéricas\n",
    "for column in data.select_dtypes(include=['int64', 'float64']).columns:\n",
    "    median = data[column].median()\n",
    "    data[column].fillna(median, inplace=True)"
   ]
  },
  {
   "cell_type": "code",
   "execution_count": 7,
   "id": "7a9d46f2-3b38-4cef-bfed-cd4c266e2b82",
   "metadata": {
    "tags": []
   },
   "outputs": [],
   "source": [
    "# Variables Categóricas\n",
    "for column in data.select_dtypes(include=['object']).columns:\n",
    "    mode = data[column].mode()[0]\n",
    "    data[column].fillna(mode, inplace=True)"
   ]
  },
  {
   "cell_type": "markdown",
   "id": "bf708395-f4fa-4d49-973e-45cd1081b03b",
   "metadata": {},
   "source": [
    "### Codificación de variables categóricas"
   ]
  },
  {
   "cell_type": "code",
   "execution_count": 9,
   "id": "90a6d28c-12e9-4cc7-b707-27597b5500dc",
   "metadata": {
    "tags": []
   },
   "outputs": [],
   "source": [
    "data = pd.get_dummies(data, drop_first=True)\n"
   ]
  },
  {
   "cell_type": "markdown",
   "id": "1a9b8bdd-a156-476b-a74b-89faef8d22ff",
   "metadata": {},
   "source": [
    "#### Transformación de Variables Numéricas"
   ]
  },
  {
   "cell_type": "code",
   "execution_count": 16,
   "id": "3ca3a9bf-803a-46b1-9d67-11228d11d1dc",
   "metadata": {
    "tags": []
   },
   "outputs": [],
   "source": [
    "if data['AGE'].min() > 0:\n",
    "    data['log_AGE'] = np.log1p(data['AGE'])\n",
    "else:\n",
    "    print(\"La columna 'AGE' contiene valores negativos y no se puede aplicar logaritmo.\")"
   ]
  },
  {
   "cell_type": "code",
   "execution_count": 18,
   "id": "7b5ee82b-f601-4e74-b104-4977e55070a1",
   "metadata": {
    "tags": []
   },
   "outputs": [
    {
     "name": "stdout",
     "output_type": "stream",
     "text": [
      "   AGE   log_AGE\n",
      "0   58  4.077537\n",
      "1   77  4.356709\n",
      "2   79  4.382027\n",
      "3   67  4.219508\n",
      "4   39  3.688879\n"
     ]
    }
   ],
   "source": [
    "print(data[['AGE', 'log_AGE']].head())"
   ]
  },
  {
   "cell_type": "markdown",
   "id": "61eb27e8-a7b3-41af-bdbe-75d830ed0a8a",
   "metadata": {
    "tags": []
   },
   "source": [
    "### Tratamiento de outliers \n"
   ]
  },
  {
   "cell_type": "code",
   "execution_count": 23,
   "id": "c998b127-5e31-4a0a-9c6e-f80655e34937",
   "metadata": {
    "tags": []
   },
   "outputs": [],
   "source": [
    "z_scores = np.abs(stats.zscore(data.select_dtypes(include=['int64', 'float64'])))\n",
    "data = data[(z_scores < 3).all(axis=1)]"
   ]
  },
  {
   "cell_type": "markdown",
   "id": "73ab4bc9-3b92-4a91-92f6-f4108a19cf9f",
   "metadata": {},
   "source": [
    "### Estandarización de variables"
   ]
  },
  {
   "cell_type": "code",
   "execution_count": 28,
   "id": "46dd2229-b045-407c-9436-6e8b0ed5fda8",
   "metadata": {
    "tags": []
   },
   "outputs": [],
   "source": [
    "scaler = StandardScaler()\n",
    "data_scaled = pd.DataFrame(scaler.fit_transform(data.select_dtypes(include=['int64', 'float64'])), columns=data.select_dtypes(include=['int64', 'float64']).columns)\n"
   ]
  },
  {
   "cell_type": "markdown",
   "id": "a156bc95-5fd7-4141-a08a-87810dadd641",
   "metadata": {},
   "source": [
    "### DataFrame Preprocesado"
   ]
  },
  {
   "cell_type": "code",
   "execution_count": 30,
   "id": "0683223b-1ca4-4f0c-add2-d42df465a8e9",
   "metadata": {
    "tags": []
   },
   "outputs": [],
   "source": [
    "\n",
    "data_scaled[data.select_dtypes(exclude=['int64', 'float64']).columns] = data[data.select_dtypes(exclude=['int64', 'float64']).columns]\n",
    "data_scaled.to_csv('Pipeline_Cancer_de_pulmones.csv', index=False)\n"
   ]
  },
  {
   "cell_type": "code",
   "execution_count": null,
   "id": "12bb8f0c-bd70-4006-af4d-7f6b3b9992d8",
   "metadata": {},
   "outputs": [],
   "source": []
  },
  {
   "cell_type": "code",
   "execution_count": null,
   "id": "45dc96dc-aa3d-4728-9388-034e2d994e7d",
   "metadata": {},
   "outputs": [],
   "source": []
  },
  {
   "cell_type": "code",
   "execution_count": null,
   "id": "6e446697-1cb8-40e4-96f9-c0b94a9aa895",
   "metadata": {},
   "outputs": [],
   "source": []
  }
 ],
 "metadata": {
  "kernelspec": {
   "display_name": "Python 3 (ipykernel)",
   "language": "python",
   "name": "python3"
  },
  "language_info": {
   "codemirror_mode": {
    "name": "ipython",
    "version": 3
   },
   "file_extension": ".py",
   "mimetype": "text/x-python",
   "name": "python",
   "nbconvert_exporter": "python",
   "pygments_lexer": "ipython3",
   "version": "3.11.5"
  }
 },
 "nbformat": 4,
 "nbformat_minor": 5
}
